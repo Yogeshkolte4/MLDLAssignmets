{
 "cells": [
  {
   "cell_type": "code",
   "execution_count": 1,
   "id": "985cbe04",
   "metadata": {},
   "outputs": [],
   "source": [
    "import numpy as np"
   ]
  },
  {
   "cell_type": "markdown",
   "id": "6eb0b4d5",
   "metadata": {},
   "source": [
    "__Q 1.1 Write a Python Program(with class concepts) to find the area of the triangle using the below formula.\n",
    "area = (s*(s-a)*(s-b)*(s-c)) ** 0.5__\n",
    "\n",
    "__Function to take the length of the sides of triangle from user should be defined in the parent\n",
    "class and function to calculate the area should be defined in subclass.__"
   ]
  },
  {
   "cell_type": "code",
   "execution_count": 2,
   "id": "72901beb",
   "metadata": {},
   "outputs": [],
   "source": [
    "class Area():\n",
    "    def __init__(self, a, b, c):\n",
    "        self.a = a\n",
    "        self.b = b\n",
    "        self.c = c\n",
    "    \n",
    "    def trangle_area(self):\n",
    "        #half the perimeter (s)\n",
    "        a = self.a\n",
    "        b = self.b\n",
    "        c = self.c\n",
    "        \n",
    "        s = (a + b + c)/2.0\n",
    "        area = np.sqrt(s * (s-a) * (s-b) * (s-c))\n",
    "        return area\n",
    "        "
   ]
  },
  {
   "cell_type": "code",
   "execution_count": 3,
   "id": "cee869d0",
   "metadata": {},
   "outputs": [],
   "source": [
    "trangle_area = Area(a = 24, b = 30, c = 18)"
   ]
  },
  {
   "cell_type": "code",
   "execution_count": 4,
   "id": "91c09d6e",
   "metadata": {},
   "outputs": [
    {
     "data": {
      "text/plain": [
       "216.0"
      ]
     },
     "execution_count": 4,
     "metadata": {},
     "output_type": "execute_result"
    }
   ],
   "source": [
    "trangle_area.trangle_area()"
   ]
  },
  {
   "cell_type": "markdown",
   "id": "011748e6",
   "metadata": {},
   "source": [
    "__Q 1.2 Write a function filter_long_words() that takes a list of words and an integer n and returns the list of words that are longer than n.__"
   ]
  },
  {
   "cell_type": "code",
   "execution_count": 5,
   "id": "67bcf759",
   "metadata": {},
   "outputs": [],
   "source": [
    "def filter_long_words(words,n):\n",
    "    long_word = []\n",
    "    for word in words:\n",
    "        if len(word)> n:\n",
    "            long_word.append(word)\n",
    "        else: \n",
    "            pass\n",
    "    return long_word"
   ]
  },
  {
   "cell_type": "code",
   "execution_count": 6,
   "id": "4e528657",
   "metadata": {},
   "outputs": [
    {
     "name": "stdout",
     "output_type": "stream",
     "text": [
      "['Yogesh', 'Doppler', 'radar']\n"
     ]
    }
   ],
   "source": [
    "words = [\"Yogesh\",\"Doppler\",\"is\", \"and\",\"data\",\"radar\"]\n",
    "long_words = filter_long_words(words=words, n=4)\n",
    "print(long_words)"
   ]
  },
  {
   "cell_type": "markdown",
   "id": "563e15b8",
   "metadata": {},
   "source": [
    "__Q 2.1 Write a Python program using function concept that maps list of words into a list of integers\n",
    "representing the lengths of the corresponding words.__\n",
    "\n",
    "__Hint: If a list [ ab,cde,erty] is passed on to the python function output should come as [2,3,4]\n",
    "Here 2,3 and 4 are the lengths of the words in the list.__"
   ]
  },
  {
   "cell_type": "code",
   "execution_count": 7,
   "id": "41c1cfe5",
   "metadata": {},
   "outputs": [],
   "source": [
    "def word_length(words):\n",
    "    word_len = []\n",
    "    for word in words:\n",
    "        if type(word)== str:\n",
    "            word_len.append(len(word))\n",
    "        else:\n",
    "            pass\n",
    "    return word_len\n",
    "        "
   ]
  },
  {
   "cell_type": "code",
   "execution_count": 8,
   "id": "fe56ff9e",
   "metadata": {},
   "outputs": [
    {
     "name": "stdout",
     "output_type": "stream",
     "text": [
      "[6, 7, 2, 2, 3, 4, 5]\n"
     ]
    }
   ],
   "source": [
    "words = [\"Yogesh\",\"Doppler\",\"is\", \"23\",45,\"and\",\"data\",\"radar\"]\n",
    "len_word_inlist = word_length(words=words)\n",
    "print(len_word_inlist)"
   ]
  },
  {
   "cell_type": "code",
   "execution_count": 9,
   "id": "5eb19aa6",
   "metadata": {},
   "outputs": [],
   "source": [
    "def word_length(words):\n",
    "    word_len = {}\n",
    "    for word in words:\n",
    "        if type(word)== str:\n",
    "            #word_len.update({\"{}\".format(word):len(word)})\n",
    "            word_len.update({\"%s\" %(word):len(word)})\n",
    "            #update({'key3':'geeks'})\n",
    "        else:\n",
    "            pass\n",
    "    return word_len"
   ]
  },
  {
   "cell_type": "code",
   "execution_count": 10,
   "id": "af1b80d5",
   "metadata": {},
   "outputs": [
    {
     "name": "stdout",
     "output_type": "stream",
     "text": [
      "{'Yogesh': 6, 'Doppler': 7, 'is': 2, '23': 2, 'and': 3, 'data': 4, 'radar': 5}\n"
     ]
    }
   ],
   "source": [
    "words = [\"Yogesh\",\"Doppler\",\"is\", \"23\",45,\"and\",\"data\",\"radar\"]\n",
    "len_word_inlist = word_length(words=words)\n",
    "print(len_word_inlist)"
   ]
  },
  {
   "cell_type": "code",
   "execution_count": null,
   "id": "6be072c8",
   "metadata": {},
   "outputs": [],
   "source": []
  },
  {
   "cell_type": "markdown",
   "id": "40b1a7cf",
   "metadata": {},
   "source": [
    "__Q 2.2 Write a Python function which takes a character (i.e. a string of length 1) and returns True if it is a vowel, False otherwise.__"
   ]
  },
  {
   "cell_type": "code",
   "execution_count": 11,
   "id": "9c35c795",
   "metadata": {},
   "outputs": [],
   "source": [
    "def is_vowel():\n",
    "    my_str = input(\"Enter the string character = \")\n",
    "    if my_str in 'aeiou':\n",
    "        return True\n",
    "    else:\n",
    "        return False\n",
    "    "
   ]
  },
  {
   "cell_type": "code",
   "execution_count": 12,
   "id": "d2f24198",
   "metadata": {},
   "outputs": [
    {
     "name": "stdout",
     "output_type": "stream",
     "text": [
      "Enter the string character = a\n"
     ]
    },
    {
     "data": {
      "text/plain": [
       "True"
      ]
     },
     "execution_count": 12,
     "metadata": {},
     "output_type": "execute_result"
    }
   ],
   "source": [
    "is_vowel()"
   ]
  },
  {
   "cell_type": "code",
   "execution_count": 13,
   "id": "0d2febc6",
   "metadata": {},
   "outputs": [
    {
     "name": "stdout",
     "output_type": "stream",
     "text": [
      "Enter the string character = g\n"
     ]
    },
    {
     "data": {
      "text/plain": [
       "False"
      ]
     },
     "execution_count": 13,
     "metadata": {},
     "output_type": "execute_result"
    }
   ],
   "source": [
    "is_vowel()"
   ]
  },
  {
   "cell_type": "code",
   "execution_count": null,
   "id": "8f81004f",
   "metadata": {},
   "outputs": [],
   "source": []
  }
 ],
 "metadata": {
  "kernelspec": {
   "display_name": "Python 3 (ipykernel)",
   "language": "python",
   "name": "python3"
  },
  "language_info": {
   "codemirror_mode": {
    "name": "ipython",
    "version": 3
   },
   "file_extension": ".py",
   "mimetype": "text/x-python",
   "name": "python",
   "nbconvert_exporter": "python",
   "pygments_lexer": "ipython3",
   "version": "3.9.7"
  }
 },
 "nbformat": 4,
 "nbformat_minor": 5
}
