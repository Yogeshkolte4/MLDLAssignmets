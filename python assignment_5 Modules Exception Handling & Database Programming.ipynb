{
 "cells": [
  {
   "cell_type": "markdown",
   "id": "5ca3c7c4",
   "metadata": {},
   "source": [
    "__Q1 Write a function to compute 5/0 and use try/except to catch the exceptions.__"
   ]
  },
  {
   "cell_type": "code",
   "execution_count": 1,
   "id": "8a46e6dd",
   "metadata": {},
   "outputs": [],
   "source": [
    "def divison():\n",
    "    dividend = int(input(\"Enter a Dividend : \"))\n",
    "    divisor = int(input(\"Enter a Divisor : \"))\n",
    "    try:\n",
    "        quotent = dividend/divisor\n",
    "        \n",
    "    except Exception as e:\n",
    "        return(e)\n",
    "    else:\n",
    "        \n",
    "        print(\"This will execuate after successful execuation of Try Block\")\n",
    "    finally:\n",
    "        print(\"This will execute always either try will execute sucessfuly or not\")\n",
    "        \n",
    "        \n",
    "    "
   ]
  },
  {
   "cell_type": "code",
   "execution_count": 2,
   "id": "5d9b4e51",
   "metadata": {},
   "outputs": [
    {
     "name": "stdout",
     "output_type": "stream",
     "text": [
      "Enter a Dividend : 5678\n",
      "Enter a Divisor : 4\n",
      "This will execuate after successful execuation of Try Block\n",
      "This will execute always either try will execute sucessfuly or not\n"
     ]
    }
   ],
   "source": [
    "divison()"
   ]
  },
  {
   "cell_type": "code",
   "execution_count": 4,
   "id": "5a41fcab",
   "metadata": {},
   "outputs": [
    {
     "name": "stdout",
     "output_type": "stream",
     "text": [
      "Enter a Dividend : 123\n",
      "Enter a Divisor : 0\n",
      "This will execute always either try will execute sucessfuly or not\n"
     ]
    },
    {
     "data": {
      "text/plain": [
       "ZeroDivisionError('division by zero')"
      ]
     },
     "execution_count": 4,
     "metadata": {},
     "output_type": "execute_result"
    }
   ],
   "source": [
    "divison()"
   ]
  },
  {
   "cell_type": "markdown",
   "id": "67a44cbe",
   "metadata": {},
   "source": [
    "__Q 2.Implement a Python program to generate all sentences where subject is in\n",
    "[\"Americans\", \"Indians\"] and verb is in [\"Play\", \"watch\"] and the object is in\n",
    "[\"Baseball\",\"cricket\"]__.\n",
    "\n",
    "__Hint: Subject,Verb and Object should be declared in the program as shown below.__\n",
    "\n",
    "___subjects=[\"Americans \",\"Indians\"]\n",
    "verbs=[\"play\",\"watch\"]\n",
    "objects=[\"Baseball\",\"Cricket\"]__"
   ]
  },
  {
   "cell_type": "code",
   "execution_count": 5,
   "id": "9d5f1034",
   "metadata": {},
   "outputs": [],
   "source": [
    "subjects = [\"Americans\", \"Indians\"]\n",
    "verbs = [\"Play\", \"watch\"]\n",
    "objects = [\"Baseball\", \"Cricket\"]"
   ]
  },
  {
   "cell_type": "code",
   "execution_count": 6,
   "id": "d524fd66",
   "metadata": {},
   "outputs": [
    {
     "name": "stdout",
     "output_type": "stream",
     "text": [
      "Americans Play Baseball\n",
      "Americans Play Cricket\n",
      "Americans watch Baseball\n",
      "Americans watch Cricket\n",
      "Indians Play Baseball\n",
      "Indians Play Cricket\n",
      "Indians watch Baseball\n",
      "Indians watch Cricket\n"
     ]
    }
   ],
   "source": [
    "for i in range(len(subjects)):\n",
    "    for ii in range(len(verbs)):\n",
    "        for iii in range(len(objects)):\n",
    "            print(f\"{subjects[i]} {verbs[ii]} {objects[iii]}\")\n",
    "        "
   ]
  },
  {
   "cell_type": "code",
   "execution_count": null,
   "id": "cd8e66d1",
   "metadata": {},
   "outputs": [],
   "source": []
  }
 ],
 "metadata": {
  "kernelspec": {
   "display_name": "Python 3 (ipykernel)",
   "language": "python",
   "name": "python3"
  },
  "language_info": {
   "codemirror_mode": {
    "name": "ipython",
    "version": 3
   },
   "file_extension": ".py",
   "mimetype": "text/x-python",
   "name": "python",
   "nbconvert_exporter": "python",
   "pygments_lexer": "ipython3",
   "version": "3.8.11"
  }
 },
 "nbformat": 4,
 "nbformat_minor": 5
}
