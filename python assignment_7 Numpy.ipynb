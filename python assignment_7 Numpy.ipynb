{
 "cells": [
  {
   "cell_type": "markdown",
   "id": "66031e8c",
   "metadata": {},
   "source": [
    "__Q1: Write a function so that the columns of the output matrix are powers of the input vector.__\n",
    "\n",
    "__The order of the powers is determined by the increasing boolean argument. Specifically, when\n",
    "increasing is False, the i-th output column is the input vector raised element-wise to the power\n",
    "of N - i - 1.__\n",
    "\n",
    "__HINT: Such a matrix with a geometric progression in each row is named for Alexandre-\n",
    "Theophile Vandermonde.__"
   ]
  },
  {
   "cell_type": "code",
   "execution_count": 1,
   "id": "5d147157",
   "metadata": {},
   "outputs": [],
   "source": [
    "import numpy as np"
   ]
  },
  {
   "cell_type": "code",
   "execution_count": 2,
   "id": "000a9156",
   "metadata": {},
   "outputs": [],
   "source": [
    "x = np.array([1,2,3,4,5])\n",
    "N = 5"
   ]
  },
  {
   "cell_type": "code",
   "execution_count": 3,
   "id": "e707ea6e",
   "metadata": {},
   "outputs": [],
   "source": [
    "def atv_matrix(x, N = None, increasing = False):\n",
    "    x = np.asarray(x)\n",
    "    if x.ndim !=1:\n",
    "        raise ValueError(\"a must be a one dimensional array or sequence.\")\n",
    "        \n",
    "    if N == None:\n",
    "        N = len(x)\n",
    "    list_array = []\n",
    "    if increasing == True:\n",
    "        #x = x[::-1]\n",
    "        for i in range(N):\n",
    "            y = x**(N-1-i)\n",
    "            list_array.append(y)\n",
    "        return np.fliplr(np.stack(list_array, axis=1))\n",
    "    else:\n",
    "        for i in range(N):\n",
    "            y = x**(N-1-i)\n",
    "            list_array.append(y)\n",
    "    \n",
    "    return np.stack(list_array, axis=1)\n",
    "    "
   ]
  },
  {
   "cell_type": "code",
   "execution_count": 4,
   "id": "c2e20102",
   "metadata": {},
   "outputs": [
    {
     "data": {
      "text/plain": [
       "array([[  1,   1,   1,   1,   1],\n",
       "       [ 16,   8,   4,   2,   1],\n",
       "       [ 81,  27,   9,   3,   1],\n",
       "       [256,  64,  16,   4,   1],\n",
       "       [625, 125,  25,   5,   1]], dtype=int32)"
      ]
     },
     "execution_count": 4,
     "metadata": {},
     "output_type": "execute_result"
    }
   ],
   "source": [
    "atv_matrix(x,N, increasing= False)"
   ]
  },
  {
   "cell_type": "code",
   "execution_count": 5,
   "id": "32d65d55",
   "metadata": {},
   "outputs": [
    {
     "data": {
      "text/plain": [
       "array([[  1,   1,   1,   1,   1],\n",
       "       [ 16,   8,   4,   2,   1],\n",
       "       [ 81,  27,   9,   3,   1],\n",
       "       [256,  64,  16,   4,   1],\n",
       "       [625, 125,  25,   5,   1]])"
      ]
     },
     "execution_count": 5,
     "metadata": {},
     "output_type": "execute_result"
    }
   ],
   "source": [
    "np.vander(x,N,increasing= False)"
   ]
  },
  {
   "cell_type": "code",
   "execution_count": 6,
   "id": "68dab5b7",
   "metadata": {},
   "outputs": [
    {
     "data": {
      "text/plain": [
       "array([[  1,   1,   1,   1,   1],\n",
       "       [  1,   2,   4,   8,  16],\n",
       "       [  1,   3,   9,  27,  81],\n",
       "       [  1,   4,  16,  64, 256],\n",
       "       [  1,   5,  25, 125, 625]], dtype=int32)"
      ]
     },
     "execution_count": 6,
     "metadata": {},
     "output_type": "execute_result"
    }
   ],
   "source": [
    "atv_matrix(x,N, increasing=True)"
   ]
  },
  {
   "cell_type": "code",
   "execution_count": 7,
   "id": "14c343b6",
   "metadata": {},
   "outputs": [
    {
     "data": {
      "text/plain": [
       "array([[  1,   1,   1,   1,   1],\n",
       "       [  1,   2,   4,   8,  16],\n",
       "       [  1,   3,   9,  27,  81],\n",
       "       [  1,   4,  16,  64, 256],\n",
       "       [  1,   5,  25, 125, 625]])"
      ]
     },
     "execution_count": 7,
     "metadata": {},
     "output_type": "execute_result"
    }
   ],
   "source": [
    "np.vander(x,N, increasing= True)"
   ]
  },
  {
   "cell_type": "markdown",
   "id": "9c2b406f",
   "metadata": {},
   "source": [
    "#### Q2: Given a sequence of n values x1, x2, ..., xn and a window size k>0, the k-th moving average of the given sequence. The moving average sequence has n-k+1 elements."
   ]
  },
  {
   "cell_type": "code",
   "execution_count": 8,
   "id": "16c7796d",
   "metadata": {},
   "outputs": [],
   "source": [
    "def movingAvg(x, window):\n",
    "    x = np.asarray(x)\n",
    "    if x.ndim !=1:\n",
    "        raise ValueError(\" x must be one dimensional array or sequence\")\n",
    "    elif len(x) <= 1:\n",
    "        return x\n",
    "    elif window <= 1:\n",
    "        raise ValueError(\"length of moving average window should be grater than 1\")\n",
    "    else:\n",
    "        mavg = []\n",
    "        for i in range(0,(len(x) - window) + 1):\n",
    "            avg = np.sum(x[i: i + window])/window\n",
    "            mavg.append(avg)\n",
    "    return np.array(mavg)\n",
    "            \n",
    "            \n",
    "        "
   ]
  },
  {
   "cell_type": "code",
   "execution_count": 9,
   "id": "d0c580e4",
   "metadata": {},
   "outputs": [
    {
     "data": {
      "text/plain": [
       "array([25., 35., 45., 55., 65., 75., 85.])"
      ]
     },
     "execution_count": 9,
     "metadata": {},
     "output_type": "execute_result"
    }
   ],
   "source": [
    "x = [10,20,30,40,50,60,70,80,90,100]\n",
    "movingAvg(x = x, window=4)"
   ]
  },
  {
   "cell_type": "code",
   "execution_count": 10,
   "id": "9cd73a6f",
   "metadata": {},
   "outputs": [
    {
     "data": {
      "text/plain": [
       "array([  5.        ,   4.66666667,   5.66666667,   6.66666667,\n",
       "         9.66666667,  28.66666667,  49.33333333,  72.66666667,\n",
       "        84.        ,  93.33333333, 116.33333333])"
      ]
     },
     "execution_count": 10,
     "metadata": {},
     "output_type": "execute_result"
    }
   ],
   "source": [
    "x = [3,5,7,2,8,10,11,65,72,81,99,100,150]\n",
    "window = 3\n",
    "movingAvg(x=x, window=window)"
   ]
  },
  {
   "cell_type": "code",
   "execution_count": null,
   "id": "28c8dc85",
   "metadata": {},
   "outputs": [],
   "source": []
  }
 ],
 "metadata": {
  "kernelspec": {
   "display_name": "Python 3 (ipykernel)",
   "language": "python",
   "name": "python3"
  },
  "language_info": {
   "codemirror_mode": {
    "name": "ipython",
    "version": 3
   },
   "file_extension": ".py",
   "mimetype": "text/x-python",
   "name": "python",
   "nbconvert_exporter": "python",
   "pygments_lexer": "ipython3",
   "version": "3.9.7"
  }
 },
 "nbformat": 4,
 "nbformat_minor": 5
}
